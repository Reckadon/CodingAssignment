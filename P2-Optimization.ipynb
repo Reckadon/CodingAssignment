{
 "cells": [
  {
   "cell_type": "markdown",
   "metadata": {},
   "source": [
    "### CS303 - Mathematical Foundations for AI\n",
    "# Coding Assignment\n",
    "\n",
    "--- \n",
    "\n",
    "#### __Problem 2. (Derivative-Free Optimization Methods).__ This assignment explores __Nelder-Mead, Simulated Annealing__, and __Covariance Matrix Adaptation Evolution Strategy (CMA-ES)__. You will implement these optimization techniques and compare their performance on different objective functions. Implement or use available libraries to apply the following optimization techniques:\n",
    "- __Nelder-Mead__ (Simplex Method)\n",
    "- __Simulated Annealing__\n",
    "- __CMA-ES (Covariance Matrix Adaptation Evolution Strategy)__\n",
    "\n",
    "Ensure that each method is applied with appropriate hyperparameters."
   ]
  },
  {
   "cell_type": "code",
   "execution_count": 2,
   "metadata": {},
   "outputs": [],
   "source": [
    "import numpy as np\n",
    "from scipy.optimize import minimize"
   ]
  },
  {
   "cell_type": "markdown",
   "metadata": {},
   "source": [
    "#### __Task 1__: Benchmarking on Test Functions (1 mark)\n",
    "1. Optimize the following benchmark functions:\n",
    "    - __Rosenbrock function:__\n",
    "        $$ f(x,y) = (1-x)^2 + 100(y-x^2)^2 $$\n",
    "    - __Rastrigin function:__\n",
    "        $$ f(x) = 10d + \\sum_{i=1}^{d}[x_i^2 - 10cos(2\\pi x_i)] $$\n",
    "    - __Ackley function:__\n",
    "        $$ f(x) = -20 \\space exp(-0.2 \\sqrt{\\frac{1}{d}\\sum_{i=1}^{d}x_i^2}) - \\space exp(\\frac{1}{d}\\sum_{i=1}^{d}cos(2\\pi x_i)) + 20 + e $$\n",
    "2. Compare convergence speed and accuracy of each method on these functions."
   ]
  },
  {
   "cell_type": "markdown",
   "metadata": {},
   "source": [
    "_Solution_\n",
    "\n",
    "__Nelder-Mead__ (Simplex Method)"
   ]
  },
  {
   "cell_type": "code",
   "execution_count": null,
   "metadata": {},
   "outputs": [
    {
     "name": "stdout",
     "output_type": "stream",
     "text": [
      "Optimum: [1. 1.], Value: 2.650458998741964e-18\n",
      "Optimum: [0. 0.], Value: 0.0\n",
      "Optimum: [ 0.96847727 -0.96847785], Value: 3.574451877262558\n"
     ]
    }
   ],
   "source": [
    "def rosenbrock(x):\n",
    "    return (1 - x[0])**2 + 100*(x[1] - x[0]**2)**2\n",
    "\n",
    "result = minimize(rosenbrock, x0=[0,0], method='Nelder-Mead', options={'xatol': 1e-8, 'maxiter': 1000})\n",
    "print(f\"Optimum: {result.x}, Value: {result.fun}\")\n",
    "\n",
    "\n",
    "def rastrigin(x, A=10):\n",
    "    return A*len(x) + sum(x_i**2 - A*np.cos(2*np.pi*x_i) for x_i in x)\n",
    "\n",
    "result = minimize(rastrigin, x0=np.zeros(2), method='Nelder-Mead', bounds=[(-5.12,5.12)]*2)\n",
    "print(f\"Optimum: {result.x}, Value: {result.fun}\")\n",
    "\n",
    "\n",
    "def ackley(x):\n",
    "    a = 20\n",
    "    b = 0.2\n",
    "    c = 2 * np.pi\n",
    "    d = len(x)\n",
    "    term1 = -a * np.exp(-b * np.sqrt(sum(x**2)/d))\n",
    "    term2 = -np.exp(sum(np.cos(c*x))/d)\n",
    "    return term1 + term2 + a + np.e\n",
    "\n",
    "initial_point = np.random.uniform(-5, 5, 2)  # Random starting point in [-5,5]\n",
    "options = {\n",
    "    'initial_simplex': None,\n",
    "    'xatol': 1e-6,\n",
    "    'fatol': 1e-6,\n",
    "    'maxiter': 1000,\n",
    "    'adaptive': True\n",
    "}\n",
    "\n",
    "result = minimize(ackley, initial_point, method='nelder-mead', options=options)\n",
    "print(f\"Optimum: {result.x}, Value: {result.fun}\")"
   ]
  },
  {
   "cell_type": "markdown",
   "metadata": {},
   "source": [
    "__Simulated Annealing__"
   ]
  },
  {
   "cell_type": "markdown",
   "metadata": {},
   "source": []
  }
 ],
 "metadata": {
  "kernelspec": {
   "display_name": "Python 3",
   "language": "python",
   "name": "python3"
  },
  "language_info": {
   "codemirror_mode": {
    "name": "ipython",
    "version": 3
   },
   "file_extension": ".py",
   "mimetype": "text/x-python",
   "name": "python",
   "nbconvert_exporter": "python",
   "pygments_lexer": "ipython3",
   "version": "3.12.4"
  }
 },
 "nbformat": 4,
 "nbformat_minor": 2
}
